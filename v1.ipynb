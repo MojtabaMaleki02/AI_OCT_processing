{
 "cells": [
  {
   "cell_type": "code",
   "execution_count": 1,
   "id": "b998c7cf-c532-4340-8318-c86db6ccce64",
   "metadata": {},
   "outputs": [],
   "source": [
    "import os\n",
    "import pandas as pd\n",
    "from oct_converter.readers import E2E\n",
    "import matplotlib.pyplot as plt"
   ]
  },
  {
   "cell_type": "code",
   "execution_count": 2,
   "id": "3bd47ba3-fd23-43bc-8ba6-061bd97c4249",
   "metadata": {},
   "outputs": [],
   "source": [
    "# Load the CSV file\n",
    "csv_file_path = 'AMD_Artificial_intelligence.csv'  # Replace with your actual file path\n",
    "df = pd.read_csv(csv_file_path, header=1)"
   ]
  },
  {
   "cell_type": "code",
   "execution_count": 3,
   "id": "446e7e77-0b90-4f2e-a57c-4725c6ee646f",
   "metadata": {},
   "outputs": [],
   "source": [
    "# Function to get acquisition date from .e2e files\n",
    "def get_e2e_acquisition_date(file_path):\n",
    "    try:\n",
    "        fds = E2E(file_path)\n",
    "        oct_volume = fds.read_oct_volume()\n",
    "        tmp = oct_volume.pop()\n",
    "        acquisition_date = pd.to_datetime(tmp.acquisition_date)\n",
    "        return acquisition_date\n",
    "    except Exception as e:\n",
    "        print(f\"Error processing file {file_path}: {e}\")\n",
    "        return None"
   ]
  },
  {
   "cell_type": "code",
   "execution_count": 4,
   "id": "d347ba91-0dda-4375-a34d-cbed54053192",
   "metadata": {},
   "outputs": [],
   "source": [
    "# Root directory containing patient folders\n",
    "root_directory = 'data'  # Replace with your actual root directory\n",
    "\n",
    "# Create a dictionary to map acquisition dates to filenames\n",
    "acquisition_date_to_info = {}\n",
    "\n",
    "# Traverse through each patient directory and process .e2e files\n",
    "for patient_folder in os.listdir(root_directory):\n",
    "    patient_folder_path = os.path.join(root_directory, patient_folder)\n",
    "    \n",
    "    if os.path.isdir(patient_folder_path):\n",
    "        for filename in os.listdir(patient_folder_path):\n",
    "            if filename.endswith('.E2E'):\n",
    "                file_path = os.path.join(patient_folder_path, filename)\n",
    "                acquisition_date = get_e2e_acquisition_date(file_path)\n",
    "                if acquisition_date:\n",
    "                    # Store filename along with acquisition date\n",
    "                    acquisition_date_to_info[acquisition_date] = {\n",
    "                        'patient_folder': patient_folder,\n",
    "                        'filename': filename\n",
    "                    }\n"
   ]
  },
  {
   "cell_type": "code",
   "execution_count": 5,
   "id": "36996b33-df0f-4ad9-9bf8-2823da5f515f",
   "metadata": {},
   "outputs": [],
   "source": [
    "# Convert 'Scan Date' in CSV to datetime and match with acquisition dates\n",
    "df['Scan Date'] = pd.to_datetime(df['Scan Date'], errors='coerce')\n",
    "\n",
    "# Filter relevant rows and print them\n",
    "relevant_rows = df[df['Scan Date'].isin(acquisition_date_to_info.keys())]"
   ]
  },
  {
   "cell_type": "code",
   "execution_count": 6,
   "id": "5a23cf20-6c02-4528-ac6a-72cd8a262e47",
   "metadata": {},
   "outputs": [
    {
     "name": "stdout",
     "output_type": "stream",
     "text": [
      "Matched rows:\n",
      "Name                     Acél Ede\n",
      "Birthday               1937.01.19\n",
      "Taj                   007-719-374\n",
      "Scan Date     2013-06-11 00:00:00\n",
      "AMD Type                      WET\n",
      "AMD Type.1                    DRY\n",
      "Name: 0, dtype: object\n"
     ]
    }
   ],
   "source": [
    "# Print whole rows for matched dates\n",
    "if not relevant_rows.empty:\n",
    "    print(\"Matched rows:\")\n",
    "    for index, row in relevant_rows.iterrows():\n",
    "        print(row)\n",
    "else:\n",
    "    print(\"No matching rows found.\")"
   ]
  },
  {
   "cell_type": "code",
   "execution_count": null,
   "id": "d15442ee-f85d-41f2-980f-55a9e2990277",
   "metadata": {},
   "outputs": [],
   "source": []
  }
 ],
 "metadata": {
  "kernelspec": {
   "display_name": "Python 3 (ipykernel)",
   "language": "python",
   "name": "python3"
  },
  "language_info": {
   "codemirror_mode": {
    "name": "ipython",
    "version": 3
   },
   "file_extension": ".py",
   "mimetype": "text/x-python",
   "name": "python",
   "nbconvert_exporter": "python",
   "pygments_lexer": "ipython3",
   "version": "3.12.4"
  }
 },
 "nbformat": 4,
 "nbformat_minor": 5
}
