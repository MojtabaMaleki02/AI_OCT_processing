{
 "cells": [
  {
   "cell_type": "code",
   "execution_count": 29,
   "id": "b998c7cf-c532-4340-8318-c86db6ccce64",
   "metadata": {},
   "outputs": [
    {
     "name": "stdout",
     "output_type": "stream",
     "text": [
      "All 'Scan Date' values are found in the .e2e files.\n"
     ]
    }
   ],
   "source": [
    "import os\n",
    "import pandas as pd\n",
    "from oct_converter.readers import E2E\n",
    "\n",
    "# Step 1: Load the CSV file, assuming the first row is the correct header\n",
    "csv_file_path = 'AMD_Artificial_intelligence.csv'  # Replace with your actual file path\n",
    "df = pd.read_csv(csv_file_path, header=1)\n",
    "\n",
    "# Step 2: Filter for rows where 'Name' is 'Acél Ede'\n",
    "df_acel_ede = df[df['Name'] == 'Bagó Lajosné']\n",
    "\n",
    "# Step 3: Function to extract acquisition date from the .e2e file\n",
    "def get_e2e_acquisition_dates(folder_path):\n",
    "    acquisition_dates = set()\n",
    "    \n",
    "    for filename in os.listdir(folder_path):\n",
    "        if filename.endswith('.E2E'):\n",
    "            file_path = os.path.join(folder_path, filename)\n",
    "            try:\n",
    "                fds = E2E(file_path)\n",
    "                oct_volume = fds.read_oct_volume()\n",
    "                tmp = oct_volume.pop()\n",
    "                acquisition_dates.add(pd.to_datetime(tmp.acquisition_date))\n",
    "            except Exception as e:\n",
    "                print(f\"Error processing file {file_path}: {e}\")\n",
    "    \n",
    "    return acquisition_dates\n",
    "\n",
    "# Step 4: Get all acquisition dates from the folder\n",
    "folder_path = 'D:/AMD Artificial Intelligence Research/Balogh Benjaminne'  # Replace with your actual folder path\n",
    "acquisition_dates = get_e2e_acquisition_dates(folder_path)\n",
    "\n",
    "# Step 5: Check if each 'Scan Date' from the CSV is in the acquisition dates\n",
    "missing_dates = []\n",
    "\n",
    "for index, row in df_acel_ede.iterrows():\n",
    "    try:\n",
    "        # Convert 'Scan Date' to datetime, handling different formats\n",
    "        scan_date = pd.to_datetime(row['Scan Date'], errors='coerce')  # Automatically infer the format\n",
    "        if pd.isna(scan_date):\n",
    "            print(f\"Warning: Unable to parse 'Scan Date' value: {row['Scan Date']}\")\n",
    "            continue\n",
    "        \n",
    "        if scan_date not in acquisition_dates:\n",
    "            missing_dates.append(scan_date)\n",
    "    except Exception as e:\n",
    "        print(f\"Error processing row {index}: {e}\")\n",
    "\n",
    "# Step 6: Output missing dates\n",
    "if missing_dates:\n",
    "    print(\"The following 'Scan Date' values are not found in any .e2e files:\")\n",
    "    for date in missing_dates:\n",
    "        print(date.strftime('%Y-%m-%d'))\n",
    "else:\n",
    "    print(\"All 'Scan Date' values are found in the .e2e files.\")\n"
   ]
  },
  {
   "cell_type": "code",
   "execution_count": null,
   "id": "3bd47ba3-fd23-43bc-8ba6-061bd97c4249",
   "metadata": {},
   "outputs": [],
   "source": []
  }
 ],
 "metadata": {
  "kernelspec": {
   "display_name": "Python 3 (ipykernel)",
   "language": "python",
   "name": "python3"
  },
  "language_info": {
   "codemirror_mode": {
    "name": "ipython",
    "version": 3
   },
   "file_extension": ".py",
   "mimetype": "text/x-python",
   "name": "python",
   "nbconvert_exporter": "python",
   "pygments_lexer": "ipython3",
   "version": "3.12.4"
  }
 },
 "nbformat": 4,
 "nbformat_minor": 5
}
